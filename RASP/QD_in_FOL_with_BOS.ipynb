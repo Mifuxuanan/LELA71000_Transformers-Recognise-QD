{
 "cells": [
  {
   "cell_type": "markdown",
   "id": "da4670c5-f8bb-4301-aa4e-da09b60e88d9",
   "metadata": {},
   "source": [
    "# **Quantifier Depth(QD) in FOL with BOS**"
   ]
  },
  {
   "cell_type": "markdown",
   "id": "8252acb7-4228-4e5c-8391-15fb168f6f64",
   "metadata": {},
   "source": [
    "## **1. Introduction**"
   ]
  },
  {
   "cell_type": "markdown",
   "id": "68dc24cf-d43e-45d7-aff4-80c03c3edd12",
   "metadata": {},
   "source": [
    "This document is written in **RASP** (Restricted Access Sequence Processing), a domain-specific language introduced in *Thinking Like Transformers (Weiss et al., 2021)*, which approximates the self-attention mechanism in the Transformer model. \n",
    "\n",
    "The algorithms in this document focus on computing Quantifier Depth (QD) in First-order Logic (FOL) expressions with the **beginning-of-sequence token (§)**. Syntactically, QD represents the maximum nesting level of quantifiers (e.g., ∀, ∃) in a formula, and is widely used to measure structural logical complexity.\n",
    "\n",
    "A total of **three Standard types** are covered, each corresponding to a distinct logical structure with varying syntactic depth. The types are ordered with increasing complexity, based on their nesting behavior and compositional logic."
   ]
  },
  {
   "cell_type": "markdown",
   "id": "7a369abf-37ed-4833-9b7d-d663190db0a2",
   "metadata": {},
   "source": [
    "For each **Type**:\n",
    "\n",
    "- **A RASP algorithm** implements QD computation for instances conforming to that grammar;\n",
    "\n",
    "- **Several Test Cases** includes \"(x/x)\" annotated examples demonstrating both the algorithm’s expected behavior and its generalization. The final block in this section follows this standardized pattern:"
   ]
  },
  {
   "cell_type": "raw",
   "id": "fc52f641-5c39-4027-940d-b0939ab77c41",
   "metadata": {},
   "source": [
    "set example type1_1  # the editable example case\n",
    "QD_type1 = QD_type1_fn();  # Execute the relevant function"
   ]
  },
  {
   "cell_type": "markdown",
   "id": "55acc198-8a1e-4408-96e1-15088bc807e2",
   "metadata": {},
   "source": [
    "## **Element-wise FFN**"
   ]
  },
  {
   "cell_type": "code",
   "execution_count": 1,
   "id": "6a044fbf-fde4-4759-87ad-c946b1904f12",
   "metadata": {},
   "outputs": [
    {
     "name": "stdout",
     "output_type": "stream",
     "text": []
    }
   ],
   "source": [
    "examples off"
   ]
  },
  {
   "cell_type": "code",
   "execution_count": 2,
   "id": "7b73f587-243d-4c41-831a-d977fc06c665",
   "metadata": {},
   "outputs": [
    {
     "name": "stdout",
     "output_type": "stream",
     "text": [
      "     s-op: bos\n",
      "     list: quanti = ['∀', '∃']\n",
      "     list: LO = ['∧', '∨', '→']\n",
      "     s-op: is_quanti\n",
      "     s-op: is_LO\n"
     ]
    }
   ],
   "source": [
    "# Some s-ops for basic information\n",
    "bos = (tokens == \"§\");\n",
    "quanti = [\"∀\", \"∃\"];  \n",
    "LO = [\"∧\", \"∨\", \"→\"];\n",
    "is_quanti = tokens in quanti;\n",
    "is_LO = tokens in LO;"
   ]
  },
  {
   "cell_type": "code",
   "execution_count": 3,
   "id": "6bb6ca17-0cce-41af-8cc8-990513145c5a",
   "metadata": {},
   "outputs": [
    {
     "name": "stdout",
     "output_type": "stream",
     "text": [
      "     selector: k_quanti\n",
      "     selector: q_quanti\n",
      "     selector: k_LO\n",
      "     selector: q_LO\n",
      "     selector: k_bos\n",
      "     selector: q_bos\n"
     ]
    }
   ],
   "source": [
    "# Select Quantifiers as keys\n",
    "k_quanti = select(is_quanti, True, ==);\n",
    "# Quantifiers as queries to attend other tokens\n",
    "q_quanti = select(True, is_quanti, ==);\n",
    "\n",
    "# Select Logical Operators as keys\n",
    "k_LO = select(is_LO, True, ==);\n",
    "# Logical Operators as queries to attend other tokens\n",
    "q_LO = select(True, is_LO, ==);\n",
    "\n",
    "# Select the <bos> token as the key\n",
    "k_bos = select(bos, True, ==);\n",
    "# The <bos> token as query to attend other tokens\n",
    "q_bos = select(True, bos, ==);"
   ]
  },
  {
   "cell_type": "code",
   "execution_count": 4,
   "id": "3508a2cc-3c02-4d52-a73a-c969f5e36359",
   "metadata": {},
   "outputs": [
    {
     "name": "stdout",
     "output_type": "stream",
     "text": [
      "     s-op: opens\n",
      "     s-op: closes\n"
     ]
    }
   ],
   "source": [
    "# Boolean value for opening and close brackets\n",
    "opens = (tokens == \"(\");\n",
    "closes = (tokens == \")\");"
   ]
  },
  {
   "cell_type": "code",
   "execution_count": 5,
   "id": "6f8d93f7-10bb-4802-88a1-a992c5a768ab",
   "metadata": {},
   "outputs": [
    {
     "name": "stdout",
     "output_type": "stream",
     "text": [
      "     selector: select_all\n",
      "     selector: leftward\n",
      "     selector: rightward\n",
      "     selector: equal\n"
     ]
    }
   ],
   "source": [
    "# Select the position based on indices\n",
    "select_all = select(1, 1, ==);\n",
    "leftward = select(indices, indices, <=);  \n",
    "rightward = select(indices, indices, >=); \n",
    "equal = select(indices, indices, ==);"
   ]
  },
  {
   "cell_type": "markdown",
   "id": "f79c36ca-4e91-4048-acf0-8c944dc0085d",
   "metadata": {},
   "source": [
    "## **Main Algorithms**"
   ]
  },
  {
   "cell_type": "code",
   "execution_count": 6,
   "id": "7006bd2b-62af-40c7-a461-ca6c905b5903",
   "metadata": {},
   "outputs": [
    {
     "name": "stdout",
     "output_type": "stream",
     "text": []
    }
   ],
   "source": [
    "examples on"
   ]
  },
  {
   "cell_type": "markdown",
   "id": "033dd109-25cd-4d6d-a8e4-dd238a38b4c2",
   "metadata": {},
   "source": [
    "### **Standard-1 with BOS**: Simple FOL with no LO"
   ]
  },
  {
   "cell_type": "code",
   "execution_count": 1,
   "id": "56975c0b-45f3-46da-a6a1-14d41fa2c824",
   "metadata": {},
   "outputs": [
    {
     "name": "stdout",
     "output_type": "stream",
     "text": [
      "     console function: type1()\n"
     ]
    }
   ],
   "source": [
    "# Select quanti from both keys and queries\n",
    "def type1(){\n",
    "    QD = aggregate(k_quanti and q_bos, indices);\n",
    "    return QD[0];\n",
    "}"
   ]
  },
  {
   "cell_type": "markdown",
   "id": "236448dc-7835-406c-8eca-c262b2153b52",
   "metadata": {},
   "source": [
    "#### Standard-1 with BOS: Test Cases (3/3)"
   ]
  },
  {
   "cell_type": "code",
   "execution_count": 14,
   "id": "6a9cb0ad-5141-456b-a9b4-c66e1a4c0e38",
   "metadata": {},
   "outputs": [
    {
     "name": "stdout",
     "output_type": "stream",
     "text": [
      "    value: type1_1 =  \"§∀uV(u)\"\n",
      "    value: type1_2 =  \"§∃x∀yP(x,y)\"\n",
      "    value: type1_3 =  \"§∀s∃b∃mX(sbm)\"\n"
     ]
    }
   ],
   "source": [
    "type1_1 = \"§∀uV(u)\"; # QD=1\n",
    "type1_2 = \"§∃x∀yP(x,y)\"; # QD=2\n",
    "type1_3 = \"§∀s∃b∃mX(sbm)\"; # QD=3"
   ]
  },
  {
   "cell_type": "code",
   "execution_count": 11,
   "id": "14c095e8-18ec-40c0-a9c4-4e454b3edf13",
   "metadata": {},
   "outputs": [
    {
     "name": "stdout",
     "output_type": "stream",
     "text": [
      "     s-op: QD_type1_1\n",
      " \t Example: QD_type1_1(\"§∀uV(u)\") = [1]*7 (ints)\n"
     ]
    }
   ],
   "source": [
    "set example type1_1\n",
    "QD_type1_1 = type1();\n",
    "# draw(type1(), \"§∀uV(u)\");"
   ]
  },
  {
   "cell_type": "code",
   "execution_count": 12,
   "id": "163e40ec-045f-4edf-8c2e-b83e359e20f5",
   "metadata": {},
   "outputs": [
    {
     "name": "stdout",
     "output_type": "stream",
     "text": [
      "     s-op: QD_type1_2\n",
      " \t Example: QD_type1_2(\"§∃x∀yP(x,y)\") = [2.0]*11 (floats)\n",
      "\t =  [2.0]*11 (floats)\n"
     ]
    }
   ],
   "source": [
    "set example type1_2\n",
    "QD_type1_2 = type1();\n",
    "draw(type1(), \"§∃x∀yP(x,y)\");"
   ]
  },
  {
   "cell_type": "code",
   "execution_count": 15,
   "id": "95e3b143-864d-4b0d-ad9f-d4c11c50336c",
   "metadata": {},
   "outputs": [
    {
     "name": "stdout",
     "output_type": "stream",
     "text": [
      "     s-op: QD_type1_3\n",
      " \t Example: QD_type1_3(\"§∀s∃b∃mX(sbm)\") = [3.0]*13 (floats)\n",
      "\t =  [3.0]*13 (floats)\n"
     ]
    }
   ],
   "source": [
    "set example type1_3\n",
    "QD_type1_3 = type1();\n",
    "# draw(type1(), \"§∀s∃b∃mX(sbm)\");"
   ]
  },
  {
   "cell_type": "markdown",
   "id": "9557bc7a-17b9-4b2a-a049-c98b6e178b43",
   "metadata": {},
   "source": [
    "### **Standard-2 with BOS**: Simple FOL with one LO\n",
    "- It can also process **Standard-1 with BOS**."
   ]
  },
  {
   "cell_type": "code",
   "execution_count": 15,
   "id": "006023f2-9e1b-40cf-bafb-6ab09ab2e4d1",
   "metadata": {},
   "outputs": [
    {
     "name": "stdout",
     "output_type": "stream",
     "text": [
      "     console function: type2()\n"
     ]
    }
   ],
   "source": [
    "def type2(){\n",
    "    # Store the information in the <bos> token\n",
    "    bos_quanti = k_quanti and q_bos;\n",
    "    bos_LO = k_LO and q_bos;\n",
    "    LO_idx = aggregate(bos_LO, indices);\n",
    "    left_quanti = k_quanti and select(indices, LO_idx, <);\n",
    "    right_quanti = bos_quanti and select(indices, LO_idx, >);\n",
    "    left_QD = selector_width(left_quanti)[0];\n",
    "    right_QD = selector_width(right_quanti)[0];\n",
    "    QD = left_QD if (left_QD > right_QD) else right_QD;\n",
    "    return QD;\n",
    "}"
   ]
  },
  {
   "cell_type": "markdown",
   "id": "852858c0-0ac0-49de-af30-733319499f2e",
   "metadata": {},
   "source": [
    "#### Standard-2 with BOS: Test Cases (6/6)"
   ]
  },
  {
   "cell_type": "code",
   "execution_count": 16,
   "id": "241afee7-3bb1-4a63-8ba9-a9058f55f20b",
   "metadata": {},
   "outputs": [
    {
     "name": "stdout",
     "output_type": "stream",
     "text": [
      "    value: type2_1 =  \"§∀tC(t)→∃iS(i)\"\n",
      "    value: type2_2 =  \"§∃dF(d)→∀z∀tD(z,t)\"\n",
      "    value: type2_3 =  \"§∃y∀lG(y,l)→∀k∃pD(k,p)\"\n",
      "    value: type2_4 =  \"§∀x∀hR(h,x)∨∃f∀qW(q,f)\"\n",
      "    value: type2_5 =  \"§∀xP(x)∨∀y∃z∀wQ(y,z,w)\"\n",
      "    value: type2_6 =  \"§∀d∃g∀iY(d,g,i)∧∃t∀m∀bT(t,m,b)\"\n"
     ]
    }
   ],
   "source": [
    "type2_1 = \"§∀tC(t)→∃iS(i)\"; # QD=1\n",
    "type2_2 = \"§∃dF(d)→∀z∀tD(z,t)\"; # QD=2\n",
    "type2_3 = \"§∃y∀lG(y,l)→∀k∃pD(k,p)\"; # QD=2\n",
    "type2_4 = \"§∀x∀hR(h,x)∨∃f∀qW(q,f)\"; # QD=2\n",
    "type2_5 = \"§∀xP(x)∨∀y∃z∀wQ(y,z,w)\"; # QD=3\n",
    "type2_6 = \"§∀d∃g∀iY(d,g,i)∧∃t∀m∀bT(t,m,b)\"; # QD=3"
   ]
  },
  {
   "cell_type": "code",
   "execution_count": 18,
   "id": "8019b954-18bc-431d-b7ea-68f9b715d6cd",
   "metadata": {},
   "outputs": [
    {
     "name": "stdout",
     "output_type": "stream",
     "text": [
      "     s-op: QD_type2_1\n",
      " \t Example: QD_type2_1(\"§∀tC(t)→∃iS(i)\") = [1]*14 (ints)\n"
     ]
    }
   ],
   "source": [
    "set example type2_1\n",
    "QD_type2_1 = type2();\n",
    "# draw(type2(), \"§∀tC(t)→∃iS(i)\");"
   ]
  },
  {
   "cell_type": "code",
   "execution_count": 17,
   "id": "16fb8801-c319-404e-83b3-0e36b24d5556",
   "metadata": {},
   "outputs": [
    {
     "name": "stdout",
     "output_type": "stream",
     "text": [
      "     s-op: QD_type2_2\n",
      " \t Example: QD_type2_2(\"§∃dF(d)→∀z∀tD(z,t)\") = [2]*18 (ints)\n"
     ]
    }
   ],
   "source": [
    "set example type2_2\n",
    "QD_type2_2 = type2();\n",
    "# draw(type2(), \"§∃dF(d)→∀z∀tD(z,t)\");"
   ]
  },
  {
   "cell_type": "code",
   "execution_count": 18,
   "id": "43f29e5a-8afd-4bd2-8bb5-b646c0922442",
   "metadata": {},
   "outputs": [
    {
     "name": "stdout",
     "output_type": "stream",
     "text": [
      "     s-op: QD_type2_3\n",
      " \t Example: QD_type2_3(\"§∃y∀lG(y,l)→∀k∃pD(k,p)\") = [2]*22 (ints)\n"
     ]
    }
   ],
   "source": [
    "set example type2_3\n",
    "QD_type2_3 = type2();\n",
    "# draw(type2(), \"§∃y∀lG(y,l)→∀k∃pD(k,p)\");"
   ]
  },
  {
   "cell_type": "code",
   "execution_count": 19,
   "id": "5230484f-fa09-44c7-b01d-b380687df8b6",
   "metadata": {},
   "outputs": [
    {
     "name": "stdout",
     "output_type": "stream",
     "text": [
      "     s-op: QD_type2_4\n",
      " \t Example: QD_type2_4(\"§∀x∀hR(h,x)∨∃f∀qW(q,f)\") = [2]*22 (ints)\n"
     ]
    }
   ],
   "source": [
    "set example type2_4\n",
    "QD_type2_4 = type2();\n",
    "# draw(type2(), \"§∀x∀hR(h,x)∨∃f∀qW(q,f)\");"
   ]
  },
  {
   "cell_type": "code",
   "execution_count": 20,
   "id": "e7951f15-9a8f-4de7-9348-094d06e542c3",
   "metadata": {},
   "outputs": [
    {
     "name": "stdout",
     "output_type": "stream",
     "text": [
      "     s-op: QD_type2_5\n",
      " \t Example: QD_type2_5(\"§∀xP(x)∨∀y∃z∀wQ(y,z,w)\") = [3]*22 (ints)\n"
     ]
    }
   ],
   "source": [
    "set example type2_5\n",
    "QD_type2_5 = type2();\n",
    "# draw(type2(), \"§∀xP(x)∨∀y∃z∀wQ(y,z,w)\");"
   ]
  },
  {
   "cell_type": "code",
   "execution_count": 21,
   "id": "751acd3e-33eb-402f-b8a0-5f07adae8b5e",
   "metadata": {},
   "outputs": [
    {
     "name": "stdout",
     "output_type": "stream",
     "text": [
      "     s-op: QD_type2_6\n",
      " \t Example: QD_type2_6(\"§∀d∃g∀iY(d,g,i)∧∃t∀m∀bT(t,m,b)\") = [3]*30 (ints)\n"
     ]
    }
   ],
   "source": [
    "set example type2_6\n",
    "QD_type2_6 = type2();\n",
    "# draw(type2(), \"§∀d∃g∀iY(d,g,i)∧∃t∀m∀bT(t,m,b)\");"
   ]
  },
  {
   "cell_type": "markdown",
   "id": "469458fa-0bca-4398-aaec-4e2f3799ada0",
   "metadata": {},
   "source": [
    "### **Standard-3 with BOS**: Simple QD allowing unlimited LOs\n",
    "- It can also process **Standard-2 with BOS**."
   ]
  },
  {
   "cell_type": "code",
   "execution_count": 24,
   "id": "a21cd49c-762e-4833-9c44-0f4fbfe59cf4",
   "metadata": {},
   "outputs": [
    {
     "name": "stdout",
     "output_type": "stream",
     "text": [
      "     console function: type3()\n"
     ]
    }
   ],
   "source": [
    "def type3(){\n",
    "    LO_bos = k_bos and q_LO;\n",
    "    LO_pos = aggregate(LO_bos, 1, 0);\n",
    "    quanti_bos = k_bos and q_quanti;\n",
    "    quanti_pos = aggregate(quanti_bos, 1, 0);\n",
    "    \n",
    "    clause_idx = aggregate(leftward, LO_pos)*(indices+1);\n",
    "    same_clause = select(clause_idx, clause_idx, ==);\n",
    "    freq = selector_width(same_clause);\n",
    "\n",
    "    clause_quanti_pos = aggregate(same_clause, quanti_pos);\n",
    "    clause_QD = clause_quanti_pos * freq;\n",
    "    QD = sort(clause_QD, clause_QD)[-1];\n",
    "    QD_type3 = aggregate(k_bos,QD);\n",
    "    return QD_type3;\n",
    "}"
   ]
  },
  {
   "cell_type": "markdown",
   "id": "380577aa-a21d-4c8c-b798-1a6886ca9e25",
   "metadata": {},
   "source": [
    "#### Standard-3 with BOS: Test Cases (7/7)"
   ]
  },
  {
   "cell_type": "code",
   "execution_count": 26,
   "id": "9aba2c95-7ec4-4609-9f4e-dfed2117f8ae",
   "metadata": {},
   "outputs": [
    {
     "name": "stdout",
     "output_type": "stream",
     "text": [
      "    value: type3_1 =  \"§∀jE(j)∧∃qK(q)→∀rM(r)\"\n",
      "    value: type3_2 =  \"§∃fL(f)∧∀a∀uW(au)∨∀sZ(s)\"\n",
      "    value: type3_3 =  \"§∃xF(x)∧∃fD(f)→∀r∀tY(rt)\"\n",
      "    value: type3_4 =  \"§∀cD(c)∧∃w∀dV(wd)→∃s∀tT(st)\"\n",
      "    value: type3_5 =  \"§∀wD(w)∧∀u∃l∃jF(ulj)∧∃iO(i)\"\n",
      "    value: type3_6 =  \"§∃vR(v)∧∀k∀t∃iN(kti)→∀d∀g∃bP(dgb)\"\n",
      "    value: type3_7 =  \"§∀xP(x)∧∀y∀zQ(y,z)→∃wR(w)\"\n"
     ]
    }
   ],
   "source": [
    "type3_1 = \"§∀jE(j)∧∃qK(q)→∀rM(r)\"; # QD=1\n",
    "type3_2 = \"§∃fL(f)∧∀a∀uW(au)∨∀sZ(s)\"; # QD=2\n",
    "type3_3 = \"§∃xF(x)∧∃fD(f)→∀r∀tY(rt)\"; # QD=2\n",
    "type3_4 = \"§∀cD(c)∧∃w∀dV(wd)→∃s∀tT(st)\"; # QD=2\n",
    "type3_5 = \"§∀wD(w)∧∀u∃l∃jF(ulj)∧∃iO(i)\"; # QD=3\n",
    "type3_6 = \"§∃vR(v)∧∀k∀t∃iN(kti)→∀d∀g∃bP(dgb)\"; # QD=3\n",
    "type3_7 =\"§∀xP(x)∧∀y∀zQ(y,z)→∃wR(w)\"; # QD=2"
   ]
  },
  {
   "cell_type": "code",
   "execution_count": 95,
   "id": "c0be179d-0a5f-4a53-ae28-fcbc6eb1baa1",
   "metadata": {},
   "outputs": [
    {
     "name": "stdout",
     "output_type": "stream",
     "text": [
      "     s-op: QD_type3_1\n",
      " \t Example: QD_type3_1(\"§∀jE(j)∧∃qK(q)→∀rM(r)\") = [1.0]*21 (floats)\n"
     ]
    }
   ],
   "source": [
    "set example type3_1\n",
    "QD_type3_1 = type3();\n",
    "# draw(type3(), \"§∀jE(j)∧∃qK(q)→∀rM(r)\");"
   ]
  },
  {
   "cell_type": "code",
   "execution_count": 96,
   "id": "d4e1f2fb-2ee7-4fe0-a11d-a352b56ee497",
   "metadata": {},
   "outputs": [
    {
     "name": "stdout",
     "output_type": "stream",
     "text": [
      "     s-op: QD_type3_2\n",
      " \t Example: QD_type3_2(\"§∃fL(f)∧∀a∀uW(au)∨∀sZ(s)\") = [2.0]*24 (floats)\n"
     ]
    }
   ],
   "source": [
    "set example type3_2\n",
    "QD_type3_2 = type3();\n",
    "# draw(type3(), \"§∃fL(f)∧∀a∀uW(au)∨∀sZ(s)\");"
   ]
  },
  {
   "cell_type": "code",
   "execution_count": 97,
   "id": "f16140a5-fb90-494f-837f-2a6af4863f44",
   "metadata": {},
   "outputs": [
    {
     "name": "stdout",
     "output_type": "stream",
     "text": [
      "     s-op: QD_type3_3\n",
      " \t Example: QD_type3_3(\"§∃xF(x)∧∃fD(f)→∀r∀tY(rt)\") = [2.0]*24 (floats)\n"
     ]
    }
   ],
   "source": [
    "set example type3_3\n",
    "QD_type3_3 = type3();\n",
    "# draw(type3(), \"§∃xF(x)∧∃fD(f)→∀r∀tY(rt)\");"
   ]
  },
  {
   "cell_type": "code",
   "execution_count": 98,
   "id": "cc0ff616-3eba-4af1-91cc-0a1468212fdf",
   "metadata": {},
   "outputs": [
    {
     "name": "stdout",
     "output_type": "stream",
     "text": [
      "     s-op: QD_type3_4\n",
      " \t Example: QD_type3_4(\"§∀cD(c)∧∃w∀dV(wd)→∃s∀tT(st)\") = [2.0]*27 (floats)\n"
     ]
    }
   ],
   "source": [
    "set example type3_4\n",
    "QD_type3_4 = type3();\n",
    "# draw(type3(), \"§∀cD(c)∧∃w∀dV(wd)→∃s∀tT(st)\");"
   ]
  },
  {
   "cell_type": "code",
   "execution_count": 99,
   "id": "ca2cb670-7854-4757-a3ee-074de854fc69",
   "metadata": {},
   "outputs": [
    {
     "name": "stdout",
     "output_type": "stream",
     "text": [
      "     s-op: QD_type3_5\n",
      " \t Example: QD_type3_5(\"§∀wD(w)∧∀u∃l∃jF(ulj)∧∃iO(i)\") = [3.0]*27 (floats)\n"
     ]
    }
   ],
   "source": [
    "set example type3_5\n",
    "QD_type3_5 = type3();\n",
    "# draw(type3(), \"§∀wD(w)∧∀u∃l∃jF(ulj)∧∃iO(i)\");"
   ]
  },
  {
   "cell_type": "code",
   "execution_count": 100,
   "id": "c15050a0-d143-40d6-afe8-843cd4a8b00d",
   "metadata": {},
   "outputs": [
    {
     "name": "stdout",
     "output_type": "stream",
     "text": [
      "     s-op: QD_type3_6\n",
      " \t Example: QD_type3_6(\"§∃vR(v)∧∀k∀t∃iN(kti)→∀d∀g∃bP(dgb)\") = [3.0]*33 (floats)\n"
     ]
    }
   ],
   "source": [
    "set example type3_6\n",
    "QD_type3_6 = type3();\n",
    "# draw(type3(), \"§∃vR(v)∧∀k∀t∃iN(kti)→∀d∀g∃bP(dgb)\");"
   ]
  },
  {
   "cell_type": "code",
   "execution_count": 27,
   "id": "4f555fec-bd95-4a12-b539-bbe8497535a3",
   "metadata": {},
   "outputs": [
    {
     "name": "stdout",
     "output_type": "stream",
     "text": [
      "     s-op: QD_type3_7\n",
      " \t Example: QD_type3_7(\"§∀xP(x)∧∀y∀zQ(y,z)→∃wR(w)\") = [2.0]*25 (floats)\n",
      "\t =  [2.0]*25 (floats)\n"
     ]
    }
   ],
   "source": [
    "set example type3_7\n",
    "QD_type3_7 = type3();\n",
    "# draw(type3(), \"§∀xP(x)∧∀y∀zQ(y,z)→∃wR(w)\");"
   ]
  }
 ],
 "metadata": {
  "kernelspec": {
   "display_name": "RASP",
   "language": "",
   "name": "rasp"
  },
  "language_info": {
   "file_extension": ".txt",
   "mimetype": "text/plain",
   "name": "Any text"
  }
 },
 "nbformat": 4,
 "nbformat_minor": 5
}
