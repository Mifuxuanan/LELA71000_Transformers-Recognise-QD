{
 "cells": [
  {
   "cell_type": "markdown",
   "id": "39556b98-c6c9-4974-b20b-8c3498fd7740",
   "metadata": {},
   "source": [
    "# **Quantifier Depth(QD) in FOL**"
   ]
  },
  {
   "cell_type": "markdown",
   "id": "88ddc616-f243-431d-bfd3-05c83fe2c6fb",
   "metadata": {},
   "source": [
    "## **1. Introduction**"
   ]
  },
  {
   "cell_type": "markdown",
   "id": "617c0333-4fc2-4b4f-86f7-82b27df51f18",
   "metadata": {},
   "source": [
    "This document is written in **RASP** (Restricted Access Sequence Processing), a domain-specific language introduced in *Thinking Like Transformers (Weiss et al., 2021)*, which approximates the self-attention mechanism in the Transformer model. \n",
    "\n",
    "The algorithms in this document focus on computing Quantifier Depth (QD) in First-order Logic (FOL) expressions. Syntactically, QD represents the maximum nesting level of quantifiers (e.g., ∀, ∃) in a formula, and is widely used to measure structural logical complexity.\n",
    "\n",
    "A total of **four FOL types** are covered, each corresponding to a distinct logical structure with varying syntactic depth. The types are ordered with increasing complexity, based on their nesting behavior and compositional logic."
   ]
  },
  {
   "cell_type": "markdown",
   "id": "0d28f4fd-6215-4bfe-858a-0c63519cc87e",
   "metadata": {},
   "source": [
    "For each **Type**:\n",
    "\n",
    "- **A BNF grammar** is provided;\n",
    "\n",
    "- **A RASP algorithm** implements QD computation for instances conforming to that grammar;\n",
    "\n",
    "- **Several Test Cases** includes \"(x/x)\" annotated examples demonstrating both the algorithm’s expected behavior and its generalization. The final block in this section follows this standardized pattern:"
   ]
  },
  {
   "cell_type": "raw",
   "id": "8fe27217-2a8f-47af-ae07-86fd2b41cadc",
   "metadata": {},
   "source": [
    "set example type1_1  # the editable example case\n",
    "QD_type1 = QD_type1_fn();  # Execute the relevant function"
   ]
  },
  {
   "cell_type": "markdown",
   "id": "6ec1c9f0-8e96-4aff-9e79-385c305644e0",
   "metadata": {},
   "source": [
    "## **2. Setup**"
   ]
  },
  {
   "cell_type": "code",
   "execution_count": 1,
   "id": "01302d52-e7c7-4f08-a3d9-39b11128aa4d",
   "metadata": {},
   "outputs": [
    {
     "name": "stdout",
     "output_type": "stream",
     "text": []
    }
   ],
   "source": [
    "examples off"
   ]
  },
  {
   "cell_type": "markdown",
   "id": "ec100456-ab87-4aee-801b-f6e3452d5bcc",
   "metadata": {},
   "source": [
    "### 1-1 Basic Functions in RASP"
   ]
  },
  {
   "cell_type": "raw",
   "id": "8d12fa9d-5a7c-498f-8533-739a83bd368b",
   "metadata": {},
   "source": [
    "# Implementation of the powerful RASP operation selector_width \n",
    "# in terms of other RASP operations. It is through this implementation \n",
    "# that RASP compiles selector_width down to the transformer architecture.\n",
    "\n",
    "def selector_width(sel, assume_bos=False){\n",
    "    light0 = indicator(indices == 0);\n",
    "    or0 = sel or select_eq (indices, 0);\n",
    "    and0 =sel and select_eq (indices, 0);\n",
    "    or0_0_frac = aggregate (or0, light0);\n",
    "    or0_width = 1/or0_0_frac;\n",
    "    and0_width = aggregate(and0, light0, 0);\n",
    "    \n",
    "    # if has bos, remove bos from width \n",
    "    # (doesn’t count, even if chosen by sel) and return.\n",
    "    bos_res = or0_width - 1;\n",
    "    \n",
    "    # else, remove \"0 - position\" from \"or0\",\n",
    "    # and \"re - add\" according to \"and0\"\n",
    "    nobos_res = bos_res + and0_width;\n",
    "    \n",
    "    return bos_res if assume_bos \n",
    "             else\n",
    "           nobos_res;\n",
    "}"
   ]
  },
  {
   "cell_type": "raw",
   "id": "44518709-451a-4644-9d4c-92b3000348bc",
   "metadata": {},
   "source": [
    "# RASP code for sorting the s-op vals according\n",
    "# to the order of the tokens in the s-op keys, with or without\n",
    "# a BOS token. The idea is for every position to focus on all\n",
    "# positions with keys smaller than its own (with input position\n",
    "# as a tiebreaker), and then use selector_width to compute\n",
    "# its target position from that. A further select-aggregate pair\n",
    "# then moves each value in val to its target position. The\n",
    "# sorting task considered in this work’s experiments is implemented simply # as sort_input=sort(tokens,tokens).\n",
    "\n",
    "def sort (vals, keys, assume_bos=False){\n",
    "    smaller = select(keys, keys, <) or\n",
    "              (select(keys, keys, ==) and\n",
    "              select(indices, indices, <));\n",
    "    num_smaller = selector_width(smaller, assume_bos=assume_bos);\n",
    "    target_pos = num_smaller if not assume_bos \n",
    "                    else\n",
    "                 (0 if indices==0 else (num_smaller + 1));\n",
    "    sel_new = select(target_pos, indices, ==);\n",
    "    sort = aggregate(sel_new, vals);\n",
    "}"
   ]
  },
  {
   "cell_type": "markdown",
   "id": "a26b4998-47c4-4928-bd13-afb965840faf",
   "metadata": {},
   "source": [
    "### 1-2 Symbols and Positions"
   ]
  },
  {
   "cell_type": "code",
   "execution_count": 2,
   "id": "210dfecd-e8e3-4fa4-84e8-a268945f53ef",
   "metadata": {},
   "outputs": [
    {
     "name": "stdout",
     "output_type": "stream",
     "text": [
      "     list: quanti = ['∀', '∃']\n",
      "     list: LO = ['∧', '∨', '⊕', '→']\n",
      "     s-op: is_quanti\n",
      "     s-op: is_LO\n"
     ]
    }
   ],
   "source": [
    "# Basic lists and s-ops for computinng QD\n",
    "quanti = [\"∀\", \"∃\"];     \n",
    "LO = [\"∧\", \"∨\", \"⊕\", \"→\"];\n",
    "is_quanti = tokens in quanti;\n",
    "is_LO = tokens in LO;"
   ]
  },
  {
   "cell_type": "code",
   "execution_count": 3,
   "id": "06039ca5-ec1f-441a-ba9d-cd1fb6617df7",
   "metadata": {},
   "outputs": [
    {
     "name": "stdout",
     "output_type": "stream",
     "text": [
      "     s-op: opens\n",
      "     s-op: closes\n"
     ]
    }
   ],
   "source": [
    "# Boolean value for identifing opening and close brackets\n",
    "opens = (tokens == \"(\");\n",
    "closes = (tokens == \")\");"
   ]
  },
  {
   "cell_type": "code",
   "execution_count": 4,
   "id": "66eb7ce3-ebbc-4920-82e3-96ac739dc674",
   "metadata": {},
   "outputs": [
    {
     "name": "stdout",
     "output_type": "stream",
     "text": [
      "     selector: select_all\n",
      "     selector: leftward\n",
      "     selector: equal\n",
      "     selector: select_quanti\n",
      "     selector: select_LO\n"
     ]
    }
   ],
   "source": [
    "## Select the position according to the indices\n",
    "select_all = select(1, 1, ==);\n",
    "leftward = select(indices, indices, <=);  \n",
    "equal = select(indices, indices, ==);\n",
    "\n",
    "## Two-way selecttion of the position of quantifier and LO \n",
    "select_quanti = select(is_quanti, True, ==) and select(True, is_quanti, ==);\n",
    "select_LO = select(is_LO, True, ==) and select(True, is_LO, ==);"
   ]
  },
  {
   "cell_type": "markdown",
   "id": "a7bf3392-9250-4d69-b10f-0548460867d9",
   "metadata": {},
   "source": [
    "### 1-3 The Algorithm for Layered Depth"
   ]
  },
  {
   "cell_type": "code",
   "execution_count": 5,
   "id": "0c57552a-d780-4b2e-855f-38a5edeb76c3",
   "metadata": {},
   "outputs": [
    {
     "name": "stdout",
     "output_type": "stream",
     "text": [
      "     console function: num_prevs(bools)\n"
     ]
    }
   ],
   "source": [
    "def num_prevs(bools){\n",
    "    # Count the number of a boolean condition\n",
    "    # Reuse from the \"num_prev\" function in the original paper\n",
    "\n",
    "    ## 1. Sum and average the number of the boolean condition\n",
    "    num = aggregate(leftward, indicator(bools)); \n",
    "\n",
    "    ## 2. Undo the average value \n",
    "    return (indices+1)*num;  \n",
    "}"
   ]
  },
  {
   "cell_type": "code",
   "execution_count": 6,
   "id": "12730495-d681-4cd4-a42e-9d5122a1d286",
   "metadata": {},
   "outputs": [
    {
     "name": "stdout",
     "output_type": "stream",
     "text": [
      "     console function: split_layers()\n"
     ]
    }
   ],
   "source": [
    "def split_layers(){\n",
    "    # Split the FOL by the nesting depth of brackets \n",
    "\n",
    "    ## 1. Identify and count the brackets\n",
    "    n_opens = num_prevs(opens);\n",
    "    n_closes = num_prevs(closes);\n",
    "    \n",
    "    ## 2. Compute nested level at each token\n",
    "    depth = n_opens - n_closes;\n",
    "\n",
    "    ## 3. Include close brackets into same depth\n",
    "    adjusted_depth = depth + indicator(closes);\n",
    "\n",
    "    return adjusted_depth;\n",
    "}"
   ]
  },
  {
   "cell_type": "code",
   "execution_count": 7,
   "id": "93615337-6aed-4abc-96b4-0e4048f22bea",
   "metadata": {},
   "outputs": [
    {
     "name": "stdout",
     "output_type": "stream",
     "text": [
      "     s-op: adjusted_depth\n",
      "     selector: same_depth\n",
      "     s-op: relative_pos\n"
     ]
    }
   ],
   "source": [
    "# Assign a same number to tokens in the same depth in order\n",
    "## e.g. 000111\n",
    "adjusted_depth = split_layers();\n",
    "\n",
    "# Select tokens in the same depth\n",
    "same_depth = select(adjusted_depth, adjusted_depth, ==);\n",
    "\n",
    "# Compute relative postion within the current depth range\n",
    "## e.g. 123123\n",
    "relative_pos = selector_width(same_depth and leftward);"
   ]
  },
  {
   "cell_type": "markdown",
   "id": "61433046-261b-4a82-8b6a-5c690ca1546f",
   "metadata": {},
   "source": [
    "## **3. QD in FOL formulas**"
   ]
  },
  {
   "cell_type": "code",
   "execution_count": 8,
   "id": "dab23033-352e-4826-afb3-646907950059",
   "metadata": {},
   "outputs": [
    {
     "name": "stdout",
     "output_type": "stream",
     "text": []
    }
   ],
   "source": [
    "examples on"
   ]
  },
  {
   "cell_type": "markdown",
   "id": "3c35cd91-8d56-46e6-ae3e-54a373015db6",
   "metadata": {},
   "source": [
    "### **Standard-1**: Simple FOL with no LO"
   ]
  },
  {
   "cell_type": "raw",
   "id": "e5023715-759e-4574-a3db-bd18dc91b0ef",
   "metadata": {},
   "source": [
    "〈Standard1〉        ::= 〈Quantifiers〉 〈Predicate〉  \n",
    "〈Quantifiers〉  ::= 〈Quantifier〉 〈Quantifiers〉;  \n",
    "〈Quantifier〉   ::= \"∀\" 〈Var〉 | \"∃\" 〈Var〉  \n",
    "〈Predicate〉    ::= 〈PredSymbol〉 \"(\" 〈VarList〉 \")\"  \n",
    "〈PredSymbol〉   ::= Uppercase letter\n",
    "〈VarList〉      ::= 〈Var〉 | 〈Var〉 \",\" 〈VarList〉  \n",
    "〈Var〉          ::= Lowercase letter   (*Only variables that have appeared in <Quantifiers> are allowed)"
   ]
  },
  {
   "cell_type": "markdown",
   "id": "c753bae8-165b-4c87-9ac9-02e197d8ae74",
   "metadata": {},
   "source": [
    "#### Standard-1: Algorithm"
   ]
  },
  {
   "cell_type": "code",
   "execution_count": 9,
   "id": "c201be1f-336a-495c-a8f1-7b973bb10c9d",
   "metadata": {},
   "outputs": [
    {
     "name": "stdout",
     "output_type": "stream",
     "text": [
      "     console function: QD_type1_fn()\n"
     ]
    }
   ],
   "source": [
    "def QD_type1_fn(){\n",
    "    # Count the quantifiers by frequency\n",
    "\n",
    "    num_quanti = selector_width(select_quanti and leftward);\n",
    "    ## store the max QD in the last idx\n",
    "    QD_type1 = num_quanti[-1];\n",
    "\n",
    "    return QD_type1;\n",
    "}"
   ]
  },
  {
   "cell_type": "markdown",
   "id": "c9a6a8bf-1133-45bb-aa24-2b73d107e5a0",
   "metadata": {},
   "source": [
    "##### Simple version"
   ]
  },
  {
   "cell_type": "code",
   "execution_count": 10,
   "id": "4f865360-8b24-4fca-890e-b225b957253d",
   "metadata": {},
   "outputs": [
    {
     "name": "stdout",
     "output_type": "stream",
     "text": [
      "     console function: simplify_type1()\n"
     ]
    }
   ],
   "source": [
    "def simplify_type1(){\n",
    "    type1 = aggregate(leftward, indicator(is_quanti))*(indices+1);\n",
    "    return type1[-1];\n",
    "}"
   ]
  },
  {
   "cell_type": "markdown",
   "id": "c863eeee-6ff9-4a39-843a-3aa46c07c47c",
   "metadata": {},
   "source": [
    "#### Standard-1: Test Cases (3/3)"
   ]
  },
  {
   "cell_type": "code",
   "execution_count": 11,
   "id": "e9355552-98a1-4b7f-9b9d-a7613693bcbc",
   "metadata": {},
   "outputs": [
    {
     "name": "stdout",
     "output_type": "stream",
     "text": [
      "    value: type1_1 =  \"∀uV(u)\"\n",
      "    value: type1_2 =  \"∃x∀yP(x,y)\"\n",
      "    value: type1_3 =  \"∀q∃d∃gF(q,d,g)\"\n"
     ]
    }
   ],
   "source": [
    "type1_1 = \"∀uV(u)\"; # QD=1\n",
    "type1_2 = \"∃x∀yP(x,y)\"; # QD=2\n",
    "type1_3 = \"∀q∃d∃gF(q,d,g)\"; # QD=3"
   ]
  },
  {
   "cell_type": "code",
   "execution_count": 12,
   "id": "5966b1b6-f7f3-497a-849f-db6cb677da1b",
   "metadata": {},
   "outputs": [
    {
     "name": "stdout",
     "output_type": "stream",
     "text": [
      "     s-op: QD_type1\n",
      " \t Example: QD_type1(\"∀uV(u)\") = [1.0]*6 (floats)\n"
     ]
    }
   ],
   "source": [
    "set example type1_1\n",
    "QD_type1 = simplify_type1();\n",
    "# draw(simplify_type1(), \"∀uV(u)\");"
   ]
  },
  {
   "cell_type": "code",
   "execution_count": 13,
   "id": "95f85b07-f1dc-46ba-829d-5ebd2513f07e",
   "metadata": {},
   "outputs": [
    {
     "name": "stdout",
     "output_type": "stream",
     "text": [
      "     s-op: QD_type1_2\n",
      " \t Example: QD_type1_2(\"∃x∀yP(x,y)\") = [2.0]*10 (floats)\n"
     ]
    }
   ],
   "source": [
    "set example type1_2\n",
    "QD_type1_2 = simplify_type1();\n",
    "# draw(simplify_type1(), \"∃x∀yP(x,y)\");"
   ]
  },
  {
   "cell_type": "code",
   "execution_count": 14,
   "id": "0e18df62-578e-4ef3-8cc0-ad79a32593af",
   "metadata": {},
   "outputs": [
    {
     "name": "stdout",
     "output_type": "stream",
     "text": [
      "     s-op: QD_type1_3\n",
      " \t Example: QD_type1_3(\"∀q∃d∃gF(q,d,g)\") = [3.0]*14 (floats)\n"
     ]
    }
   ],
   "source": [
    "set example type1_3\n",
    "QD_type1_3 = simplify_type1();\n",
    "# draw(simplify_type1(), \"∀q∃d∃gF(q,d,g)\");"
   ]
  },
  {
   "cell_type": "markdown",
   "id": "04e507d9-804d-4e07-8e3c-901c4bdc78f1",
   "metadata": {},
   "source": [
    "### **Standard-2**: Simple FOL with one LO\n",
    "- It can also process **Type1 QD**."
   ]
  },
  {
   "cell_type": "raw",
   "id": "2eb69cd3-9a89-4185-9879-fcd9d91b869e",
   "metadata": {},
   "source": [
    "〈LogicalOp〉   ::= \"∧\" | \"∨\" | \"→\" | \"⊕\"\n",
    "〈Standard2〉       ::= 〈Standard1〉 〈LogicalOp〉 〈Standard1〉"
   ]
  },
  {
   "cell_type": "markdown",
   "id": "47434e01-32c5-4622-9ad8-f125f86792cf",
   "metadata": {},
   "source": [
    "#### Standard-2: Algorithm"
   ]
  },
  {
   "cell_type": "code",
   "execution_count": 15,
   "id": "8684eb83-ebdf-4396-98c2-3ed858b8b1f8",
   "metadata": {},
   "outputs": [
    {
     "name": "stdout",
     "output_type": "stream",
     "text": [
      "     console function: QD_type2_fn()\n"
     ]
    }
   ],
   "source": [
    "def QD_type2_fn(){\n",
    "    # Compare the max QD of two clauses\n",
    "\n",
    "    ## 1. Find the positions of quantifier and LO\n",
    "    clause_quanti = select(is_quanti, True, ==);\n",
    "    LO_pos = aggregate(select_LO, indices);\n",
    "    LO_idx = aggregate(select_all, LO_pos)*length;\n",
    "    \n",
    "    ## 2. Extact tokens on both sides of LO and compute their respective quantifier\n",
    "    left_quant  = clause_quanti and select(indices, LO_idx, <);\n",
    "    right_quant = clause_quanti and select(indices, LO_idx, >=);\n",
    "    left_QD  = selector_width(left_quant);\n",
    "    right_QD = selector_width(right_quant);\n",
    "\n",
    "    ## 3. Take the side with a deeper QD\n",
    "    ### It can also be realized by the \"max()\" function\n",
    "    QD_type2 = left_QD if (left_QD > right_QD) else right_QD;\n",
    "\n",
    "    return QD_type2;\n",
    "}"
   ]
  },
  {
   "cell_type": "markdown",
   "id": "88f10ee0-97aa-4075-9bef-671f221fef5d",
   "metadata": {},
   "source": [
    "#### Standard-2: Test Cases (5/5)"
   ]
  },
  {
   "cell_type": "code",
   "execution_count": 22,
   "id": "879c2cd2-eaee-4d07-bafc-0cc875d514ea",
   "metadata": {},
   "outputs": [
    {
     "name": "stdout",
     "output_type": "stream",
     "text": [
      "    value: type2_0 =  \"∃x∀f∀aQ(xfa)\"\n",
      "    value: type2_1 =  \"∀pQ(p)∧∀fQ(f)\"\n",
      "    value: type2_2 =  \"∀v∀hK(h,v)→∀k∀sV(s,k)\"\n",
      "    value: type2_3 =  \"∀x∀hR(h,x)∨∃f∀qW(q,f)\"\n",
      "    value: type2_4 =  \"∀xP(x)∨∀y∃z∀wQ(y,z,w)\"\n",
      "    value: type2_5 =  \"∀gE(g)→∀bF(b)\"\n"
     ]
    }
   ],
   "source": [
    "type2_0 = \"∃x∀f∀aQ(xfa)\"; # QD=3\n",
    "\n",
    "type2_1 = \"∀pQ(p)∧∀fQ(f)\"; # QD=1\n",
    "type2_2 = \"∀v∀hK(h,v)→∀k∀sV(s,k)\"; # QD=2\n",
    "type2_3 = \"∀x∀hR(h,x)∨∃f∀qW(q,f)\"; # QD=2\n",
    "type2_4 = \"∀xP(x)∨∀y∃z∀wQ(y,z,w)\"; # QD=3\n",
    "type2_5 = \"∀gE(g)→∀bF(b)\"; # QD=1"
   ]
  },
  {
   "cell_type": "code",
   "execution_count": 21,
   "id": "0199758b-4c41-4b8c-a28f-ef49bbf74a95",
   "metadata": {},
   "outputs": [
    {
     "name": "stdout",
     "output_type": "stream",
     "text": [
      "     s-op: QD_type2_0\n",
      " \t Example: QD_type2_0(\"∃x∀f∀aQ(xfa)\") = [3]*12 (ints)\n",
      "\t =  [3]*12 (ints)\n"
     ]
    }
   ],
   "source": [
    "set example type2_0\n",
    "QD_type2_0 = QD_type2_fn();\n",
    "draw(QD_type2_fn(), \"∃x∀f∀aQ(xfa)\");"
   ]
  },
  {
   "cell_type": "code",
   "execution_count": 147,
   "id": "02f46464-f6f8-49a3-8754-c659744579fc",
   "metadata": {},
   "outputs": [
    {
     "name": "stdout",
     "output_type": "stream",
     "text": [
      "     s-op: QD_type2_1\n",
      " \t Example: QD_type2_1(\"∀pQ(p)∧∀fQ(f)\") = [1]*13 (ints)\n"
     ]
    }
   ],
   "source": [
    "set example type2_1\n",
    "QD_type2_1 = QD_type2_fn();\n",
    "# draw(QD_type2_fn(), \"∀pQ(p)∧∀fQ(f)\");"
   ]
  },
  {
   "cell_type": "code",
   "execution_count": 148,
   "id": "f9855945-ebfb-4ebd-a7bc-6c256a9194d5",
   "metadata": {},
   "outputs": [
    {
     "name": "stdout",
     "output_type": "stream",
     "text": [
      "     s-op: QD_type2_2\n",
      " \t Example: QD_type2_2(\"∀v∀hK(h,v)→∀k∀sV(s,k)\") = [2]*21 (ints)\n"
     ]
    }
   ],
   "source": [
    "set example type2_2\n",
    "QD_type2_2 = QD_type2_fn();\n",
    "# draw(QD_type2_fn(), \"∀v∀h¬K(h,v)→∀k∀sV(s,k)\");"
   ]
  },
  {
   "cell_type": "code",
   "execution_count": 149,
   "id": "ee606d62-3c09-4bd3-8f3c-1f71bfc152ba",
   "metadata": {},
   "outputs": [
    {
     "name": "stdout",
     "output_type": "stream",
     "text": [
      "     s-op: QD_type2_3\n",
      " \t Example: QD_type2_3(\"∀x∀hR(h,x)∨∃f∀qW(q,f)\") = [2]*21 (ints)\n"
     ]
    }
   ],
   "source": [
    "set example type2_3\n",
    "QD_type2_3 = QD_type2_fn();\n",
    "# draw(QD_type2_fn(), \"∀x∀hR(h,x)∨∃f∀q¬W(q,f)\");"
   ]
  },
  {
   "cell_type": "code",
   "execution_count": 152,
   "id": "147ae5a0-0b76-4a0c-a5dc-3c365992b9e9",
   "metadata": {},
   "outputs": [
    {
     "name": "stdout",
     "output_type": "stream",
     "text": [
      "     s-op: QD_type2_4\n",
      " \t Example: QD_type2_4(\"∀xP(x)∨∀y∃z∀wQ(y,z,w)\") = [3]*21 (ints)\n",
      "\t =  [3]*21 (ints)\n"
     ]
    }
   ],
   "source": [
    "set example type2_4\n",
    "QD_type2_4 = QD_type2_fn();\n",
    "# draw(QD_type2_fn(), \"∀xP(x)∨∀y∃z∀wQ(y,z,w)\");"
   ]
  },
  {
   "cell_type": "code",
   "execution_count": 23,
   "id": "f9a0520c-2b24-43eb-8600-2eda58a8285b",
   "metadata": {},
   "outputs": [
    {
     "name": "stdout",
     "output_type": "stream",
     "text": [
      "     s-op: QD_type2_5\n",
      " \t Example: QD_type2_5(\"∀gE(g)→∀bF(b)\") = [1]*13 (ints)\n",
      "\t =  [1]*13 (ints)\n"
     ]
    }
   ],
   "source": [
    "set example type2_5\n",
    "QD_type2_5 = QD_type2_fn();\n",
    "# draw(QD_type2_fn(), \"∀gE(g)→∀bF(b)\");"
   ]
  },
  {
   "cell_type": "markdown",
   "id": "f0bd390c-8288-4b63-800c-ac5fe4df2158",
   "metadata": {},
   "source": [
    "### **Standard-3**: Simple QD allowing unlimited LOs\n",
    "- It can also process **Standard-2 QD**."
   ]
  },
  {
   "cell_type": "raw",
   "id": "94070e78-ccd8-446c-b36f-bae7d131413e",
   "metadata": {},
   "source": [
    "〈LogicalOp〉   ::= \"∧\" | \"∨\" | \"→\" | \"⊕\"\n",
    "〈Standard3〉       ::= 〈Standard1〉 〈TypeTail〉\n",
    "〈TypeTail〉    ::= 〈LogicalOp〉 〈TypeTail〉| ε"
   ]
  },
  {
   "cell_type": "markdown",
   "id": "472d79af-cef4-4890-8201-b25c177ac5ae",
   "metadata": {},
   "source": [
    "#### Standard-3: Algorithm"
   ]
  },
  {
   "cell_type": "code",
   "execution_count": 153,
   "id": "6b8e79ec-4ed0-46b2-a673-8baa1d9f580a",
   "metadata": {},
   "outputs": [
    {
     "name": "stdout",
     "output_type": "stream",
     "text": [
      "     console function: QD_type3_fn()\n"
     ]
    }
   ],
   "source": [
    "def QD_type3_fn(){\n",
    "    clause_idx = aggregate(leftward, indicator(is_LO))*(indices+1);\n",
    "    same_clause = select(clause_idx, clause_idx, ==);\n",
    "    freq = selector_width(same_clause);\n",
    "    quanti_pos = aggregate(same_clause, indicator(is_quantifier));\n",
    "    clause_QD = quanti_pos*freq;\n",
    "    QD_type3 = sort(clause_QD, clause_QD)[-1];\n",
    "\n",
    "    return QD_type3;\n",
    "}"
   ]
  },
  {
   "cell_type": "markdown",
   "id": "d081d807-aaaa-4c68-ae04-64885c1cc460",
   "metadata": {},
   "source": [
    "#### Standard-3: Test Cases (4/4)"
   ]
  },
  {
   "cell_type": "code",
   "execution_count": 154,
   "id": "bd35dc6f-3c42-4b06-a007-8600c9fa6f11",
   "metadata": {},
   "outputs": [
    {
     "name": "stdout",
     "output_type": "stream",
     "text": [
      "    value: type3_1 =  \"∀vG(v)→∃iE(i)→∀o∀zC(z,o)\"\n",
      "    value: type3_2 =  \"∀r∀j¬N(r,j)∧∀l∃yN(y,l)→∃e∃zN(e,z)\"\n",
      "    value: type3_3 =  \"∀tZ(t)∧∀y∀vZ(y,v)→∀xH(x)\"\n",
      "    value: type3_4 =  \"∀xP(x)∧∀y∀zQ(y,z)→∃wR(w)\"\n"
     ]
    }
   ],
   "source": [
    "type3_1 = \"∀vG(v)→∃iE(i)→∀o∀zC(z,o)\"; # QD=2\n",
    "type3_2 = \"∀r∀j¬N(r,j)∧∀l∃yN(y,l)→∃e∃zN(e,z)\"; # QD=2\n",
    "type3_3 = \"∀tZ(t)∧∀y∀vZ(y,v)→∀xH(x)\"; # QD=2\n",
    "type3_4 = \"∀xP(x)∧∀y∀zQ(y,z)→∃wR(w)\"; # QD=2"
   ]
  },
  {
   "cell_type": "code",
   "execution_count": 155,
   "id": "1cb9a0a6-d6e7-4a9a-8296-ee42e1d8bf86",
   "metadata": {},
   "outputs": [
    {
     "name": "stdout",
     "output_type": "stream",
     "text": [
      "     s-op: QD_type3_1\n",
      " \t Example: QD_type3_1(\"∀vG(v)→∃iE(i)→∀o∀zC(z,o)\") = [2.0]*24 (floats)\n"
     ]
    }
   ],
   "source": [
    "set example type3_1\n",
    "QD_type3_1 = QD_type3_fn();\n",
    "# draw(QD_type3_fn(), \"∀vG(v)→∃iE(i)→∀o∀zC(z,o)\");"
   ]
  },
  {
   "cell_type": "code",
   "execution_count": 156,
   "id": "c64faece-3acf-4ff8-8266-31f3f4566c66",
   "metadata": {},
   "outputs": [
    {
     "name": "stdout",
     "output_type": "stream",
     "text": [
      "     s-op: QD_type3_2\n",
      " \t Example: QD_type3_2(\"∀r∀j¬N(r,j)∧∀l∃yN(y,l)→∃e∃zN(e,z)\") = [2.0]*33 (floats)\n"
     ]
    }
   ],
   "source": [
    "set example type3_2\n",
    "QD_type3_2 = QD_type3_fn();\n",
    "# draw(QD_type3_fn(), \"∀r∀j¬N(r,j)∧∀l∃yN(y,l)→∃e∃zN(e,z)\");"
   ]
  },
  {
   "cell_type": "code",
   "execution_count": 157,
   "id": "2bf59b66-bbd4-45df-b1fb-6fdcee5bfc25",
   "metadata": {},
   "outputs": [
    {
     "name": "stdout",
     "output_type": "stream",
     "text": [
      "     s-op: QD_type3_3\n",
      " \t Example: QD_type3_3(\"∀tZ(t)∧∀y∀vZ(y,v)→∀xH(x)\") = [2.0]*24 (floats)\n"
     ]
    }
   ],
   "source": [
    "set example type3_3\n",
    "QD_type3_3 = QD_type3_fn();\n",
    "# draw(QD_type3_fn(), \"∀tZ(t)∧∀y∀vZ(y,v)→∀xH(x)\");"
   ]
  },
  {
   "cell_type": "code",
   "execution_count": 171,
   "id": "27186782-e40c-484a-993b-05e45de01620",
   "metadata": {},
   "outputs": [
    {
     "name": "stdout",
     "output_type": "stream",
     "text": [
      "     s-op: QD_type3_4\n",
      " \t Example: QD_type3_4(\"∀xP(x)∧∀y∀zQ(y,z)→∃wR(w)\") = [2.0]*24 (floats)\n"
     ]
    }
   ],
   "source": [
    "set example type3_4\n",
    "QD_type3_4 = QD_type3_fn();\n",
    "# draw(QD_type3_fn(), \"∀xP(x)∧∀y∀zQ(y,z)→∃wR(w)\");"
   ]
  },
  {
   "cell_type": "markdown",
   "id": "5f4323c4-cd5a-40df-83cb-5210a0c6cf9e",
   "metadata": {},
   "source": [
    "### **Nested-1**: Nested QD with Type 2\n",
    "- The deepest embedded elementary expression = Standard-2\n",
    "- It can also process **Standard-2 QD**."
   ]
  },
  {
   "cell_type": "raw",
   "id": "77a6e1af-5804-4cbb-bcea-2939874fde1d",
   "metadata": {},
   "source": [
    "〈LogicalOp〉   ::= \"∧\" | \"∨\" | \"→\" | \"⊕\"\n",
    "〈Nested-1〉       ::= 〈Standard2〉\n",
    "                   | \"(\" 〈Nested-1〉 〈LogicalOp〉 〈Nested-1〉 \")\""
   ]
  },
  {
   "cell_type": "markdown",
   "id": "d3298d42-0fed-4af7-9300-c6f46312d457",
   "metadata": {},
   "source": [
    "#### Nested-1: Algorithm"
   ]
  },
  {
   "cell_type": "code",
   "execution_count": 160,
   "id": "2edd85a3-69ef-491c-82bd-31fa754ae707",
   "metadata": {},
   "outputs": [
    {
     "name": "stdout",
     "output_type": "stream",
     "text": [
      "     console function: layer_QD_type4(num_layer)\n"
     ]
    }
   ],
   "source": [
    "def layer_QD_type4(num_layer){\n",
    "    # Compute the max QD in different layers\n",
    "    # num: The number of selected layer\n",
    "\n",
    "    ## 1. Select the layer and the positions of quantifier and LO\n",
    "    layer = select(adjusted_depth, num_layer, ==);\n",
    "    layer_quanti = select(is_quantifier, True, ==) and layer;\n",
    "    layer_LO = select(is_LO, True, ==) and layer;\n",
    "    ### Find whether this layer has LO for later \"if-else\"\n",
    "    has_LO = aggregate(layer_LO, 1, 0) > 0;\n",
    "    LO_idx = aggregate(layer_LO, indices);\n",
    "\n",
    "    ## 2. Extact tokens on both sides of LO and compute their respective quantifier\n",
    "    left_quant  = layer_quanti and select(indices, LO_idx, <);\n",
    "    right_quant = layer_quanti and select(indices, LO_idx, >);\n",
    "    left_QD  = selector_width(left_quant);\n",
    "    right_QD = selector_width(right_quant);\n",
    "\n",
    "    ## 3. Consider other conditions\n",
    "    ### To avoid the empty pre-defined layers get some results,\n",
    "    ### it labels all existing layers in current formula\n",
    "    ### and fliter the empty layers. \n",
    "    no_layer = aggregate(layer,1,0) == 0;  \n",
    "    ### Directly aggregate all quantifier numbers If there is no LO\n",
    "    only_QD = selector_width(layer_quanti);\n",
    "\n",
    "    ## 4. Assign 0 to the empty layer and compare QD from both sides\n",
    "    layer_QD = 0 if no_layer\n",
    "                else\n",
    "               (max(left_QD, right_QD) if has_LO \n",
    "                else\n",
    "               (only_QD));\n",
    "\n",
    "    return layer_QD;\n",
    "}"
   ]
  },
  {
   "cell_type": "code",
   "execution_count": 161,
   "id": "f6d22874-281a-4507-a92a-9fb75422754c",
   "metadata": {},
   "outputs": [
    {
     "name": "stdout",
     "output_type": "stream",
     "text": [
      "     console function: QD_type4_fn()\n"
     ]
    }
   ],
   "source": [
    "def QD_type4_fn(){\n",
    "    # Decide the number of layer and sum each max layer QD together\n",
    "\n",
    "    ## Theoretically, RASP can process QD with an arbitrary depth;\n",
    "    ## In practical, as RASP doesn't support explicit recursion or \"for\" loop,\n",
    "    ## this problem can only be solved as the following operations  \n",
    "    ## by pre-defining the highest maximum sublayer depth and trying all possible depths.\n",
    "\n",
    "    ## 1. Store results from each layer\n",
    "    ### The usage frequency of the related function\n",
    "    ### depends on the maximum depth in all layers.\n",
    "    ### Here I select 4 sublayer to meet the Maximum depth 4.\n",
    "    ### It can also be solved by 3 layers, which will be explained in the Type6 part.\n",
    "    layer0_QD = layer_QD_type4(0);\n",
    "    layer1_QD = layer_QD_type4(1);\n",
    "    layer2_QD = layer_QD_type4(2);\n",
    "    layer3_QD = layer_QD_type4(3);\n",
    "    ## Can continue to add \"layer_QD\" to meet deeper examples\n",
    "\n",
    "    QD_type4 = layer0_QD + layer1_QD + layer2_QD + layer3_QD;\n",
    "    return QD_type4;\n",
    "}"
   ]
  },
  {
   "cell_type": "markdown",
   "id": "d40df197-9f9a-4789-9f21-1b39734ff04a",
   "metadata": {},
   "source": [
    "#### Nested-1: Test Cases (5/5)"
   ]
  },
  {
   "cell_type": "code",
   "execution_count": 164,
   "id": "6c41ce45-a8fd-42f3-9c9d-c6a2bea49612",
   "metadata": {},
   "outputs": [
    {
     "name": "stdout",
     "output_type": "stream",
     "text": [
      "    value: type4_1 =  \"∀xP(x)\"\n",
      "    value: type4_2 =  \"∀x(P(x)∨∀yQ(y))\"\n",
      "    value: type4_3 =  \"∃x(P(x)∨∀y∃zQ(y,z))\"\n",
      "    value: type4_4 =  \"∃x(P(x)→∀y(Q(y)∨∀zR(z)))\"\n",
      "    value: type4_5 =  \"∀x(P(x)→∃y(∀zQ(y,z)∨∃u∃vR(u,v)))\"\n"
     ]
    }
   ],
   "source": [
    "type4_1 = \"∀xP(x)\"; # 1\n",
    "type4_2 = \"∀x(P(x)∨∀yQ(y))\"; # 2\n",
    "type4_3 = \"∃x(P(x)∨∀y∃zQ(y,z))\"; # 3\n",
    "type4_4 = \"∃x(P(x)→∀y(Q(y)∨∀zR(z)))\"; # 3\n",
    "type4_5 = \"∀x(P(x)→∃y(∀zQ(y,z)∨∃u∃vR(u,v)))\"; # 4"
   ]
  },
  {
   "cell_type": "code",
   "execution_count": 165,
   "id": "5cc78ce8-4061-4b51-a1e3-645865fb863a",
   "metadata": {},
   "outputs": [
    {
     "name": "stdout",
     "output_type": "stream",
     "text": [
      "     s-op: QD_type4_1\n",
      " \t Example: QD_type4_1(\"∀xP(x)\") = [1]*6 (ints)\n"
     ]
    }
   ],
   "source": [
    "set example type4_1\n",
    "QD_type4_1 = QD_type4_fn();\n",
    "# draw(QD_type4_fn(), \"∀xP(x)\");"
   ]
  },
  {
   "cell_type": "code",
   "execution_count": 166,
   "id": "d45c1457-1cf4-4b0a-8fae-f001ad9597cb",
   "metadata": {},
   "outputs": [
    {
     "name": "stdout",
     "output_type": "stream",
     "text": [
      "     s-op: QD_type4_2\n",
      " \t Example: QD_type4_2(\"∀x(P(x)∨∀yQ(y))\") = [2]*15 (ints)\n"
     ]
    }
   ],
   "source": [
    "set example type4_2\n",
    "QD_type4_2 = QD_type4_fn();\n",
    "# draw(QD_type4_fn(), \"∀x(P(x)∨∀yQ(y))\");"
   ]
  },
  {
   "cell_type": "code",
   "execution_count": 167,
   "id": "a2ba007f-1af0-491a-973a-15e6ad372b06",
   "metadata": {},
   "outputs": [
    {
     "name": "stdout",
     "output_type": "stream",
     "text": [
      "     s-op: QD_type4_3\n",
      " \t Example: QD_type4_3(\"∃x(P(x)∨∀y∃zQ(y,z))\") = [3]*19 (ints)\n"
     ]
    }
   ],
   "source": [
    "set example type4_3\n",
    "QD_type4_3 = QD_type4_fn();\n",
    "# draw(QD_type4_fn(), \"∃x(P(x)∨∀y∃zQ(y,z))\");"
   ]
  },
  {
   "cell_type": "code",
   "execution_count": 170,
   "id": "bf71c0b0-727f-4a8c-beec-3b892975e587",
   "metadata": {},
   "outputs": [
    {
     "name": "stdout",
     "output_type": "stream",
     "text": [
      "     s-op: QD_type4_4\n",
      " \t Example: QD_type4_4(\"∃x(P(x)→∀y(Q(y)∨∀zR(z)))\") = [3]*24 (ints)\n",
      "\t =  [3]*24 (ints)\n"
     ]
    }
   ],
   "source": [
    "set example type4_4\n",
    "QD_type4_4 = QD_type4_fn();\n",
    "# draw(QD_type4_fn(), \"∃x(P(x)→∀y(Q(y)∨∀zR(z)))\");"
   ]
  },
  {
   "cell_type": "code",
   "execution_count": 169,
   "id": "b39d0324-9f2f-4aad-b650-cbcb04278921",
   "metadata": {},
   "outputs": [
    {
     "name": "stdout",
     "output_type": "stream",
     "text": [
      "     s-op: QD_type4_5\n",
      " \t Example: QD_type4_5(\"∀x(P(x)→∃y(∀zQ(y,z)∨∃u∃vR(u,v)))\") = [4]*32 (ints)\n"
     ]
    }
   ],
   "source": [
    "set example type4_5\n",
    "QD_type4_5 = QD_type4_fn();\n",
    "# draw(QD_type4_fn(), \"∀x(P(x)→∃y(∀zQ(y,z)∨∃u∃vR(u,v)))\");"
   ]
  }
 ],
 "metadata": {
  "kernelspec": {
   "display_name": "RASP",
   "language": "",
   "name": "rasp"
  },
  "language_info": {
   "file_extension": ".txt",
   "mimetype": "text/plain",
   "name": "Any text"
  }
 },
 "nbformat": 4,
 "nbformat_minor": 5
}
